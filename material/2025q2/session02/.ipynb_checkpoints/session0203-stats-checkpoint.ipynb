{
 "cells": [
  {
   "cell_type": "markdown",
   "id": "d91cc880",
   "metadata": {},
   "source": [
    "https://githubtocolab.com/brochhagen/nlpupf/blob/main/material/2024q2/session02/session0203-stats.ipynb\n",
    "\n",
    "\n",
    "# Central tendencies\n",
    "\n",
    "$$\\Large \\mu_X = \\frac{1}{n} \\sum_i x_i$$\n",
    "\n",
    "***\n",
    "\n",
    "For finite, odd, and ordered X:\n",
    "\n",
    "$$\\Large \\text{median}(X) = x_{\\frac{n+1}{2}}$$\n",
    "\n",
    "For finite, even, and ordered X:\n",
    "\n",
    "\n",
    "$$\\Large \\text{median}(X) = \\frac{x_{n/2} + x_{(n/2)+1}}{2}$$\n",
    "\n",
    "\n",
    "***\n",
    "\n",
    "# Variation\n",
    "\n",
    "$$\\Large Var(X) = \\frac{1}{n-1} \\sum_i(x_i - \\bar{x})^{2}$$\n",
    "\n",
    "***\n",
    "\n",
    "$$\\Large \\sigma_X = \\sqrt{\\frac{1}{n-1} \\sum_i(x_i - \\bar{x})^{2}}$$\n",
    "\n",
    "***\n",
    "\n",
    "# (Pearson's) Correlation (coefficient)\n",
    "\n",
    "$$\\Large \\rho_{X,Y} = \\frac{\\text{cov}(X,Y)}{\\sigma_X\\sigma_Y} = \\frac{E[(X - \\mu_X)(Y-\\mu_Y)]}{\\sigma_X\\sigma_Y}$$\n"
   ]
  },
  {
   "cell_type": "code",
   "execution_count": null,
   "id": "477b840d",
   "metadata": {
    "scrolled": true
   },
   "outputs": [],
   "source": [
    "X = [1,1,1,21]\n",
    "Y = [6,8,4]"
   ]
  },
  {
   "cell_type": "code",
   "execution_count": null,
   "id": "e04115b7",
   "metadata": {},
   "outputs": [],
   "source": [
    "from statistics import mean, median,variance,stdev\n",
    "print(mean(X))\n",
    "print(mean(Y))"
   ]
  },
  {
   "cell_type": "code",
   "execution_count": null,
   "id": "9591fc37",
   "metadata": {},
   "outputs": [],
   "source": [
    "print(median(X))\n",
    "print(median(Y))"
   ]
  },
  {
   "cell_type": "code",
   "execution_count": null,
   "id": "e010f8c0",
   "metadata": {},
   "outputs": [],
   "source": [
    "print(variance(X))\n",
    "print(variance(Y))"
   ]
  },
  {
   "cell_type": "code",
   "execution_count": null,
   "id": "94c097fe",
   "metadata": {},
   "outputs": [],
   "source": [
    "print(stdev(X))\n",
    "print(stdev(Y))"
   ]
  },
  {
   "cell_type": "markdown",
   "id": "27534134",
   "metadata": {},
   "source": [
    "# Simulation to illustrate"
   ]
  },
  {
   "cell_type": "code",
   "execution_count": null,
   "id": "e137fd25",
   "metadata": {},
   "outputs": [],
   "source": [
    "#Enabling R magic\n",
    "%load_ext rpy2.ipython "
   ]
  },
  {
   "cell_type": "code",
   "execution_count": null,
   "id": "ccbb766c",
   "metadata": {},
   "outputs": [],
   "source": [
    "%%R\n",
    "\n",
    "set.seed(123)\n",
    "\n",
    "X <- round(\n",
    "        rnorm(mean = 65,\n",
    "              sd   = 10,\n",
    "              n    = 100),\n",
    "        0)\n",
    "\n",
    "print(X[1:5])"
   ]
  },
  {
   "cell_type": "code",
   "execution_count": null,
   "id": "0642cb8c",
   "metadata": {},
   "outputs": [],
   "source": [
    "%%R\n",
    "hist(X)"
   ]
  },
  {
   "cell_type": "code",
   "execution_count": null,
   "id": "c4f526b8",
   "metadata": {},
   "outputs": [],
   "source": [
    "%%R\n",
    "set.seed(5)\n",
    "\n",
    "sigma_err <- rnorm(mean = 0, sd = 5, n = 100) \n",
    "Y = round(2.5 * X + sigma_err,0)\n",
    "\n",
    "print(Y[1:5])"
   ]
  },
  {
   "cell_type": "code",
   "execution_count": null,
   "id": "c498cb73",
   "metadata": {},
   "outputs": [],
   "source": [
    "%%R\n",
    "plot(X,Y)"
   ]
  },
  {
   "cell_type": "code",
   "execution_count": null,
   "id": "c5681068",
   "metadata": {},
   "outputs": [],
   "source": [
    "%%R\n",
    "cor(X,Y)"
   ]
  }
 ],
 "metadata": {
  "kernelspec": {
   "display_name": "nlpupf",
   "language": "python",
   "name": "nlpupf"
  },
  "language_info": {
   "codemirror_mode": {
    "name": "ipython",
    "version": 3
   },
   "file_extension": ".py",
   "mimetype": "text/x-python",
   "name": "python",
   "nbconvert_exporter": "python",
   "pygments_lexer": "ipython3",
   "version": "3.9.13"
  }
 },
 "nbformat": 4,
 "nbformat_minor": 5
}
