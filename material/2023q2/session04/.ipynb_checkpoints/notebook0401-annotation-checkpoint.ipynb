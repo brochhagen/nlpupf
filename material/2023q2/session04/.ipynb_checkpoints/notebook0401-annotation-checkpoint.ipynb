{
 "cells": [
  {
   "cell_type": "markdown",
   "id": "ece2f3b5",
   "metadata": {},
   "source": [
    "# Annotation & data\n",
    "\n",
    "NLP practicioners spend most of their time on data manipulation; data quality; and data annotation. After all, that's where most gains (and errors) stem from, compared to marginal benefits of one algorithm over another. It doesn't matter how good your algorithm is if you are evaluating it on the wrong task or on the wrong data.\n",
    "\n",
    "There is dire need for experts who understand language; how to elicit it from annotators; and how to evaluate what models (don't) learn from it.\n",
    "\n",
    "\n",
    "![](human-in-the-loop.png)\n",
    "<center>Figure 1.1 from Monarch's Human-in-the-Loop Machine Learning</center>\n",
    "\n",
    "***\n",
    "\n",
    "\n",
    "<div class=\"alert alert-block alert-info\"> <b>Discussion.</b> Why is quality human annotation hard? Where can things go wrong?</div>\n",
    "\n",
    "\n",
    "### Uncertainty sampling\n",
    "\n",
    "Sample from cases in which the model is uncertain. For instance, its posterior prediction for label A is 45% and that for label B is 55%\n",
    "\n",
    "<div class=\"alert alert-block alert-info\"> <b>Discussion.</b> Give an example of a linguistic phenomenon where  uncertainty sampling is important to check model performance.</div>\n",
    "\n",
    "\n",
    "### Diversity sampling\n",
    "\n",
    "Sample from underrepresented cases. For instance, label A only applies to 1% of the data, whereas B and C take the lion's share with 49% and 50%, respectively. \n",
    "\n",
    "\n",
    "<div class=\"alert alert-block alert-info\"> <b>Discussion.</b> Give an example of a linguistic phenomenon where  diversity sampling is important to check model performance.</div>\n",
    "\n",
    "\n",
    "### Random sampling\n",
    "\n",
    "Sample at random\n",
    "\n",
    "<div class=\"alert alert-block alert-info\"> <b>Discussion.</b> Give an example of a linguistic phenomenon where  random sampling is important to check model performance.</div>\n",
    "\n",
    "<div class=\"alert alert-block alert-info\"> <b>Discussion.</b> How do you decide how (in)frequently to train and evaluate your model and go through the active learning cycle?</div>"
   ]
  },
  {
   "cell_type": "code",
   "execution_count": 1,
   "id": "c8c0332b",
   "metadata": {},
   "outputs": [
    {
     "ename": "SyntaxError",
     "evalue": "invalid syntax (2315561587.py, line 1)",
     "output_type": "error",
     "traceback": [
      "\u001b[0;36m  File \u001b[0;32m\"/tmp/ipykernel_14029/2315561587.py\"\u001b[0;36m, line \u001b[0;32m1\u001b[0m\n\u001b[0;31m    1. Explain what active learning is (1.3) and what the three broad learning sampling strategies are\u001b[0m\n\u001b[0m       ^\u001b[0m\n\u001b[0;31mSyntaxError\u001b[0m\u001b[0;31m:\u001b[0m invalid syntax\n"
     ]
    }
   ],
   "source": [
    "Tasks before session:\n",
    "1. Read Human-in-the-loop chapter 1\n",
    "\n",
    "Optional:\n",
    "1. Explain what active learning is (1.3) and what the three broad learning sampling strategies are.\n",
    "2. Explain what transfer learning is (1.4)\n"
   ]
  },
  {
   "cell_type": "markdown",
   "id": "5a101be7",
   "metadata": {},
   "source": [
    "# Train/Test split\n",
    "\n",
    "* Problems with held-out-data not being truly random\n",
    "* Problems with not training on all the available data\n",
    "* If it can't be random: It should be representative or tiered\n",
    "* Use example of a regression model on heights (only for Female)"
   ]
  },
  {
   "cell_type": "code",
   "execution_count": 3,
   "id": "f6850630",
   "metadata": {},
   "outputs": [
    {
     "ename": "SyntaxError",
     "evalue": "invalid syntax (2212760720.py, line 1)",
     "output_type": "error",
     "traceback": [
      "\u001b[0;36m  File \u001b[0;32m\"/tmp/ipykernel_14029/2212760720.py\"\u001b[0;36m, line \u001b[0;32m1\u001b[0m\n\u001b[0;31m    Make them annotate data\u001b[0m\n\u001b[0m         ^\u001b[0m\n\u001b[0;31mSyntaxError\u001b[0m\u001b[0;31m:\u001b[0m invalid syntax\n"
     ]
    }
   ],
   "source": [
    "Make them annotate data\n",
    "Compute agreement between annotators\n",
    "Pick new cases to annotate\n",
    "\n",
    "Do rest of session on accuracy, F1, kappa-scores and model uncertainty"
   ]
  },
  {
   "cell_type": "code",
   "execution_count": null,
   "id": "427d919c",
   "metadata": {},
   "outputs": [],
   "source": []
  }
 ],
 "metadata": {
  "kernelspec": {
   "display_name": "Python 3 (ipykernel)",
   "language": "python",
   "name": "python3"
  },
  "language_info": {
   "codemirror_mode": {
    "name": "ipython",
    "version": 3
   },
   "file_extension": ".py",
   "mimetype": "text/x-python",
   "name": "python",
   "nbconvert_exporter": "python",
   "pygments_lexer": "ipython3",
   "version": "3.9.6"
  }
 },
 "nbformat": 4,
 "nbformat_minor": 5
}
