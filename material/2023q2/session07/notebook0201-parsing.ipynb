{
 "cells": [
  {
   "cell_type": "markdown",
   "id": "ece2f3b5",
   "metadata": {},
   "source": [
    "# Parsing\n",
    "\n",
    "Just as sequence labeling, parsing is a core task of NLP. Parsing can be an integral part of coreference resolution systems, language generation, error detection, and so on.\n",
    "\n",
    "<div class=\"alert alert-block alert-info\"> <b>Discussion.</b> What is better? Constituency parsing or dependency parsing?\n",
    "</div>\n",
    "\n",
    "***\n",
    "\n",
    "<div class=\"alert alert-block alert-success\"> <b>Activity.</b> <br>\n",
    "    <ol>1. Manually annotate the dependencies in the two sentences below</ol>\n",
    "    <ol>2. Use a spacy model to parse the dependencies of the two sentences. </ol>\n",
    "    <ol>3. Compare (1) and (2)</ol>\n",
    "    <ol>4. Optional: Display the dependencies from (2) using displacy (https://spacy.io/usage/visualizers)\n",
    "</div>\n",
    "\n",
    "**Sentence 1**: \"I went up to my bedroom.\"\n",
    "\n",
    "**Sentence 2**: \"I closed and locked the door.\"\n",
    "\n",
    "***"
   ]
  },
  {
   "cell_type": "markdown",
   "id": "7217e79e",
   "metadata": {},
   "source": [
    "*** \n",
    "\n",
    "## Practice\n",
    "\n",
    "Write a script to determine the participants and the winner (if any) of an international football match, given a textual summary.\n",
    "\n",
    "\n",
    "\n",
    "\n",
    "\n"
   ]
  },
  {
   "cell_type": "code",
   "execution_count": null,
   "id": "c328fa78",
   "metadata": {},
   "outputs": [],
   "source": []
  }
 ],
 "metadata": {
  "kernelspec": {
   "display_name": "nlpupf",
   "language": "python",
   "name": "nlpupf"
  },
  "language_info": {
   "codemirror_mode": {
    "name": "ipython",
    "version": 3
   },
   "file_extension": ".py",
   "mimetype": "text/x-python",
   "name": "python",
   "nbconvert_exporter": "python",
   "pygments_lexer": "ipython3",
   "version": "3.9.12"
  }
 },
 "nbformat": 4,
 "nbformat_minor": 5
}
