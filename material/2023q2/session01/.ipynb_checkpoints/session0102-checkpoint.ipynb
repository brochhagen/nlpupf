{
 "cells": [
  {
   "cell_type": "markdown",
   "id": "b9831a64",
   "metadata": {},
   "source": [
    "# Handling text (Session 01.02)\n",
    "\n",
    "Main contents covered:\n",
    "\n",
    "  * Normalization\n",
    "  * Tokenization\n",
    "  * Type/token distinction\n",
    "  * Zipf's Law of Abbreviation\n",
    "  \n",
    "To distill information from textual data, chances are that you need to pre-process it first. \n"
   ]
  },
  {
   "cell_type": "code",
   "execution_count": 1,
   "id": "f0b84ff5",
   "metadata": {},
   "outputs": [],
   "source": [
    "### This snippet reads in a text from a URL ###\n",
    "\n",
    "import urllib.request #for opening/reading URLs\n",
    "book_url = 'https://www.gutenberg.org/cache/epub/1727/pg1727.txt' #URL of book we want to read in\n",
    "\n",
    "book_text = urllib.request.urlopen(book_url) #open URL as \"book_text\"\n",
    "book_text = book_text.read()                 #returns all bytes from \"book_text\" \n",
    "book_text = book_text.decode(\"utf-8\")        #decode as UTF-8"
   ]
  },
  {
   "cell_type": "code",
   "execution_count": 2,
   "id": "eaf38289",
   "metadata": {},
   "outputs": [
    {
     "name": "stdout",
     "output_type": "stream",
     "text": [
      "710229\n"
     ]
    }
   ],
   "source": [
    "print(len(book_text))"
   ]
  },
  {
   "cell_type": "code",
   "execution_count": 3,
   "id": "22394be9",
   "metadata": {},
   "outputs": [
    {
     "name": "stdout",
     "output_type": "stream",
     "text": [
      "The Proje\n"
     ]
    }
   ],
   "source": [
    "print(book_text[1:10])"
   ]
  },
  {
   "cell_type": "code",
   "execution_count": 4,
   "id": "007bd81f",
   "metadata": {},
   "outputs": [
    {
     "name": "stdout",
     "output_type": "stream",
     "text": [
      "The Project Gutenberg eBook of The Odyssey, by Homer\r\n",
      "\r\n",
      "This eBook is for the use of anyone anywhere in the United States and\r\n",
      "most other parts of the world at no cost and with almost no restrictions\r\n",
      "whatsoever. You may copy it, give it away or re-use it under the terms\r\n",
      "of the Project Gutenberg License included with this eBook or online at\r\n",
      "www.gutenberg.org. If you are not located in the United States, you\r\n",
      "will have to check the laws of the country where you are located before\r\n",
      "using this e\n"
     ]
    }
   ],
   "source": [
    "print(book_text[1:500])"
   ]
  },
  {
   "cell_type": "markdown",
   "id": "b5041b8c",
   "metadata": {},
   "source": [
    "# Pre-processing \n",
    "\n",
    "Let's start with the question how many times each word appears in the text.\n",
    "\n",
    "<div class=\"alert alert-block alert-info\"> <b>Discussion.</b> Minimally, what do we need to do with \"book_text\" before answering this question?</div>\n",
    "\n",
    "## Tokenization"
   ]
  },
  {
   "cell_type": "code",
   "execution_count": 5,
   "id": "cc6a6076",
   "metadata": {},
   "outputs": [],
   "source": [
    "word_tokenized_book = book_text.split(' ') #list with elements of \"book_text\", split at the specified string"
   ]
  },
  {
   "cell_type": "code",
   "execution_count": 6,
   "id": "57881066",
   "metadata": {},
   "outputs": [
    {
     "data": {
      "text/plain": [
       "122218"
      ]
     },
     "execution_count": 6,
     "metadata": {},
     "output_type": "execute_result"
    }
   ],
   "source": [
    "len(word_tokenized_book)"
   ]
  },
  {
   "cell_type": "code",
   "execution_count": 7,
   "id": "40ace7fb",
   "metadata": {},
   "outputs": [
    {
     "data": {
      "text/plain": [
       "['Project', 'Gutenberg', 'eBook', 'of']"
      ]
     },
     "execution_count": 7,
     "metadata": {},
     "output_type": "execute_result"
    }
   ],
   "source": [
    "word_tokenized_book[1:5]"
   ]
  },
  {
   "cell_type": "code",
   "execution_count": 8,
   "id": "dc32f33b",
   "metadata": {},
   "outputs": [
    {
     "data": {
      "text/plain": [
       "20721"
      ]
     },
     "execution_count": 8,
     "metadata": {},
     "output_type": "execute_result"
    }
   ],
   "source": [
    "len(set(word_tokenized_book))"
   ]
  },
  {
   "cell_type": "markdown",
   "id": "b5e11939",
   "metadata": {},
   "source": [
    "<div class=\"alert alert-block alert-info\"> <b>Discussion.</b> Can you think of other units of analysis than word-level tokenization?</div>\n",
    "\n",
    "\n",
    "<div class=\"alert alert-block alert-info\"> <b>Discussion.</b> Can we now answer the question how many times each word appears in the text?</div>\n"
   ]
  },
  {
   "cell_type": "code",
   "execution_count": 9,
   "id": "b5f6b81c",
   "metadata": {},
   "outputs": [
    {
     "data": {
      "text/plain": [
       "[('the', 5679), ('and', 4545), ('of', 3166), ('to', 3121), ('a', 1765)]"
      ]
     },
     "execution_count": 9,
     "metadata": {},
     "output_type": "execute_result"
    }
   ],
   "source": [
    "from collections import Counter\n",
    "\n",
    "freq_book = Counter(word_tokenized_book)\n",
    "freq_book.most_common(5)"
   ]
  },
  {
   "cell_type": "markdown",
   "id": "2233bd52",
   "metadata": {},
   "source": [
    "## Normalization"
   ]
  },
  {
   "cell_type": "code",
   "execution_count": 10,
   "id": "c966b4a6",
   "metadata": {
    "scrolled": false
   },
   "outputs": [
    {
     "data": {
      "text/plain": [
       "[('the', 5912), ('and', 4587), ('of', 3193), ('to', 3153), ('a', 1795)]"
      ]
     },
     "execution_count": 10,
     "metadata": {},
     "output_type": "execute_result"
    }
   ],
   "source": [
    "word_tokenized_normed_book = [w.lower() for w in word_tokenized_book]\n",
    "freq_book = Counter(word_tokenized_normed_book)\n",
    "freq_book.most_common(5)"
   ]
  },
  {
   "cell_type": "markdown",
   "id": "ed0b76a6",
   "metadata": {},
   "source": [
    "<div class=\"alert alert-block alert-info\"> <b>Activity.</b> Look at the tokenized book. What other normalization processes can you think of?</div>"
   ]
  },
  {
   "cell_type": "markdown",
   "id": "93dd9441",
   "metadata": {},
   "source": [
    "## Types vs. tokens\n",
    "\n",
    "*Types* are the distinct units in a corpus (e.g., distinct words). *Tokens* are each occurence of a unit in a corpus (e.g., each word). So the number of *types* in a corpus will be equal or less than the number of *tokens*\n",
    "\n",
    "<div class=\"alert alert-block alert-info\"> <b>Activity.</b> How many word types are there in The Odyssey? How many word tokens?</div>\n"
   ]
  },
  {
   "cell_type": "markdown",
   "id": "029b6955",
   "metadata": {},
   "source": [
    "# spaCy\n",
    "\n",
    "State of the art NLP module, interfaces with deep learning techniques and symbolic ones.\n",
    "\n",
    "See __[https://spacy.io/](https://spacy.io/)__"
   ]
  },
  {
   "cell_type": "code",
   "execution_count": 14,
   "id": "1cb35d56",
   "metadata": {},
   "outputs": [],
   "source": [
    "import spacy\n",
    "import en_core_web_sm\n",
    "nlp = en_core_web_sm.load()\n",
    "\n",
    "doc = nlp(book_text)\n",
    "# all tokens that arent stop words or punctuations\n",
    "words = [token.text\n",
    "         for token in doc\n",
    "         if not token.is_stop and not token.is_punct]\n",
    "\n",
    "# noun tokens that arent stop words or punctuations\n",
    "nouns = [token.text\n",
    "         for token in doc\n",
    "         if (not token.is_stop and\n",
    "             not token.is_punct and\n",
    "             token.pos_ == \"NOUN\")]\n",
    "\n",
    "# five most common tokens\n",
    "word_freq = Counter(words)\n",
    "common_words = word_freq.most_common(5)\n",
    "\n",
    "# five most common noun tokens\n",
    "noun_freq = Counter(nouns)\n",
    "common_nouns = noun_freq.most_common(5)"
   ]
  },
  {
   "cell_type": "code",
   "execution_count": 15,
   "id": "91a73925",
   "metadata": {},
   "outputs": [
    {
     "data": {
      "text/plain": [
       "[('\\r\\n', 9219),\n",
       " ('\\r\\n\\r\\n', 1290),\n",
       " ('Ulysses', 635),\n",
       " ('said', 483),\n",
       " ('house', 408)]"
      ]
     },
     "execution_count": 15,
     "metadata": {},
     "output_type": "execute_result"
    }
   ],
   "source": [
    "common_words"
   ]
  },
  {
   "cell_type": "code",
   "execution_count": 16,
   "id": "4760c9e5",
   "metadata": {},
   "outputs": [
    {
     "data": {
      "text/plain": [
       "[('house', 406), ('man', 345), ('men', 327), ('son', 272), ('suitors', 241)]"
      ]
     },
     "execution_count": 16,
     "metadata": {},
     "output_type": "execute_result"
    }
   ],
   "source": [
    "common_nouns"
   ]
  },
  {
   "cell_type": "markdown",
   "id": "3f962253",
   "metadata": {},
   "source": [
    "<div class=\"alert alert-block alert-success\"> You can introduce spaCy to the group next week for participation credit.</div>"
   ]
  },
  {
   "cell_type": "markdown",
   "id": "11eaae8b",
   "metadata": {},
   "source": [
    "## Excursion: Zipf's Law of Abbreviation\n",
    "\n"
   ]
  },
  {
   "cell_type": "code",
   "execution_count": 20,
   "id": "ffbb5ce0",
   "metadata": {},
   "outputs": [],
   "source": [
    "import pandas as pd\n",
    "import matplotlib.pyplot as plt\n",
    "import seaborn as sns\n",
    "sns.set_theme(style=\"darkgrid\")\n",
    "\n",
    "df = pd.DataFrame.from_records(list(dict(Counter(words)).items()), columns=['word','frequency'])"
   ]
  },
  {
   "cell_type": "code",
   "execution_count": 21,
   "id": "2cdf6f2e",
   "metadata": {},
   "outputs": [
    {
     "data": {
      "text/html": [
       "<div>\n",
       "<style scoped>\n",
       "    .dataframe tbody tr th:only-of-type {\n",
       "        vertical-align: middle;\n",
       "    }\n",
       "\n",
       "    .dataframe tbody tr th {\n",
       "        vertical-align: top;\n",
       "    }\n",
       "\n",
       "    .dataframe thead th {\n",
       "        text-align: right;\n",
       "    }\n",
       "</style>\n",
       "<table border=\"1\" class=\"dataframe\">\n",
       "  <thead>\n",
       "    <tr style=\"text-align: right;\">\n",
       "      <th></th>\n",
       "      <th>word</th>\n",
       "      <th>frequency</th>\n",
       "    </tr>\n",
       "  </thead>\n",
       "  <tbody>\n",
       "    <tr>\n",
       "      <th>0</th>\n",
       "      <td>﻿The</td>\n",
       "      <td>1</td>\n",
       "    </tr>\n",
       "    <tr>\n",
       "      <th>1</th>\n",
       "      <td>Project</td>\n",
       "      <td>84</td>\n",
       "    </tr>\n",
       "    <tr>\n",
       "      <th>2</th>\n",
       "      <td>Gutenberg</td>\n",
       "      <td>84</td>\n",
       "    </tr>\n",
       "    <tr>\n",
       "      <th>3</th>\n",
       "      <td>eBook</td>\n",
       "      <td>11</td>\n",
       "    </tr>\n",
       "    <tr>\n",
       "      <th>4</th>\n",
       "      <td>Odyssey</td>\n",
       "      <td>68</td>\n",
       "    </tr>\n",
       "    <tr>\n",
       "      <th>...</th>\n",
       "      <td>...</td>\n",
       "      <td>...</td>\n",
       "    </tr>\n",
       "    <tr>\n",
       "      <th>8294</th>\n",
       "      <td>facility</td>\n",
       "      <td>1</td>\n",
       "    </tr>\n",
       "    <tr>\n",
       "      <th>8295</th>\n",
       "      <td>produce</td>\n",
       "      <td>1</td>\n",
       "    </tr>\n",
       "    <tr>\n",
       "      <th>8296</th>\n",
       "      <td>subscribe</td>\n",
       "      <td>1</td>\n",
       "    </tr>\n",
       "    <tr>\n",
       "      <th>8297</th>\n",
       "      <td>email</td>\n",
       "      <td>1</td>\n",
       "    </tr>\n",
       "    <tr>\n",
       "      <th>8298</th>\n",
       "      <td>newsletter</td>\n",
       "      <td>1</td>\n",
       "    </tr>\n",
       "  </tbody>\n",
       "</table>\n",
       "<p>8299 rows × 2 columns</p>\n",
       "</div>"
      ],
      "text/plain": [
       "            word  frequency\n",
       "0           ﻿The          1\n",
       "1        Project         84\n",
       "2      Gutenberg         84\n",
       "3          eBook         11\n",
       "4        Odyssey         68\n",
       "...          ...        ...\n",
       "8294    facility          1\n",
       "8295     produce          1\n",
       "8296   subscribe          1\n",
       "8297       email          1\n",
       "8298  newsletter          1\n",
       "\n",
       "[8299 rows x 2 columns]"
      ]
     },
     "execution_count": 21,
     "metadata": {},
     "output_type": "execute_result"
    }
   ],
   "source": [
    "df"
   ]
  },
  {
   "cell_type": "code",
   "execution_count": 22,
   "id": "e2af2edf",
   "metadata": {},
   "outputs": [
    {
     "data": {
      "text/html": [
       "<div>\n",
       "<style scoped>\n",
       "    .dataframe tbody tr th:only-of-type {\n",
       "        vertical-align: middle;\n",
       "    }\n",
       "\n",
       "    .dataframe tbody tr th {\n",
       "        vertical-align: top;\n",
       "    }\n",
       "\n",
       "    .dataframe thead th {\n",
       "        text-align: right;\n",
       "    }\n",
       "</style>\n",
       "<table border=\"1\" class=\"dataframe\">\n",
       "  <thead>\n",
       "    <tr style=\"text-align: right;\">\n",
       "      <th></th>\n",
       "      <th>word</th>\n",
       "      <th>frequency</th>\n",
       "      <th>rank</th>\n",
       "    </tr>\n",
       "  </thead>\n",
       "  <tbody>\n",
       "    <tr>\n",
       "      <th>10</th>\n",
       "      <td>\\r\\n</td>\n",
       "      <td>9219</td>\n",
       "      <td>1</td>\n",
       "    </tr>\n",
       "    <tr>\n",
       "      <th>6</th>\n",
       "      <td>\\r\\n\\r\\n</td>\n",
       "      <td>1290</td>\n",
       "      <td>2</td>\n",
       "    </tr>\n",
       "    <tr>\n",
       "      <th>141</th>\n",
       "      <td>Ulysses</td>\n",
       "      <td>635</td>\n",
       "      <td>3</td>\n",
       "    </tr>\n",
       "    <tr>\n",
       "      <th>906</th>\n",
       "      <td>said</td>\n",
       "      <td>483</td>\n",
       "      <td>4</td>\n",
       "    </tr>\n",
       "    <tr>\n",
       "      <th>233</th>\n",
       "      <td>house</td>\n",
       "      <td>408</td>\n",
       "      <td>5</td>\n",
       "    </tr>\n",
       "    <tr>\n",
       "      <th>...</th>\n",
       "      <td>...</td>\n",
       "      <td>...</td>\n",
       "      <td>...</td>\n",
       "    </tr>\n",
       "    <tr>\n",
       "      <th>4852</th>\n",
       "      <td>Chloris</td>\n",
       "      <td>1</td>\n",
       "      <td>8295</td>\n",
       "    </tr>\n",
       "    <tr>\n",
       "      <th>4853</th>\n",
       "      <td>priceless</td>\n",
       "      <td>1</td>\n",
       "      <td>8296</td>\n",
       "    </tr>\n",
       "    <tr>\n",
       "      <th>4855</th>\n",
       "      <td>Minyan</td>\n",
       "      <td>1</td>\n",
       "      <td>8297</td>\n",
       "    </tr>\n",
       "    <tr>\n",
       "      <th>4857</th>\n",
       "      <td>Chromius</td>\n",
       "      <td>1</td>\n",
       "      <td>8298</td>\n",
       "    </tr>\n",
       "    <tr>\n",
       "      <th>8298</th>\n",
       "      <td>newsletter</td>\n",
       "      <td>1</td>\n",
       "      <td>8299</td>\n",
       "    </tr>\n",
       "  </tbody>\n",
       "</table>\n",
       "<p>8299 rows × 3 columns</p>\n",
       "</div>"
      ],
      "text/plain": [
       "            word  frequency  rank\n",
       "10          \\r\\n       9219     1\n",
       "6       \\r\\n\\r\\n       1290     2\n",
       "141      Ulysses        635     3\n",
       "906         said        483     4\n",
       "233        house        408     5\n",
       "...          ...        ...   ...\n",
       "4852     Chloris          1  8295\n",
       "4853   priceless          1  8296\n",
       "4855      Minyan          1  8297\n",
       "4857    Chromius          1  8298\n",
       "8298  newsletter          1  8299\n",
       "\n",
       "[8299 rows x 3 columns]"
      ]
     },
     "execution_count": 22,
     "metadata": {},
     "output_type": "execute_result"
    }
   ],
   "source": [
    "df = df.sort_values(by=['frequency'], ascending=False)\n",
    "df['rank'] = list(range(1, len(df) + 1))\n",
    "\n",
    "df"
   ]
  },
  {
   "cell_type": "code",
   "execution_count": 23,
   "id": "1a683d62",
   "metadata": {},
   "outputs": [
    {
     "data": {
      "image/png": "[encoded data removed]",
      "text/plain": [
       "<Figure size 500x500 with 1 Axes>"
      ]
     },
     "metadata": {},
     "output_type": "display_data"
    }
   ],
   "source": [
    "sns.relplot(x=\"rank\", y=\"frequency\", data=df);"
   ]
  },
  {
   "cell_type": "code",
   "execution_count": 24,
   "id": "525e4eb0",
   "metadata": {},
   "outputs": [
    {
     "data": {
      "text/html": [
       "<div>\n",
       "<style scoped>\n",
       "    .dataframe tbody tr th:only-of-type {\n",
       "        vertical-align: middle;\n",
       "    }\n",
       "\n",
       "    .dataframe tbody tr th {\n",
       "        vertical-align: top;\n",
       "    }\n",
       "\n",
       "    .dataframe thead th {\n",
       "        text-align: right;\n",
       "    }\n",
       "</style>\n",
       "<table border=\"1\" class=\"dataframe\">\n",
       "  <thead>\n",
       "    <tr style=\"text-align: right;\">\n",
       "      <th></th>\n",
       "      <th>word</th>\n",
       "      <th>frequency</th>\n",
       "      <th>rank</th>\n",
       "    </tr>\n",
       "  </thead>\n",
       "  <tbody>\n",
       "    <tr>\n",
       "      <th>141</th>\n",
       "      <td>Ulysses</td>\n",
       "      <td>635</td>\n",
       "      <td>1</td>\n",
       "    </tr>\n",
       "    <tr>\n",
       "      <th>906</th>\n",
       "      <td>said</td>\n",
       "      <td>483</td>\n",
       "      <td>2</td>\n",
       "    </tr>\n",
       "    <tr>\n",
       "      <th>233</th>\n",
       "      <td>house</td>\n",
       "      <td>408</td>\n",
       "      <td>3</td>\n",
       "    </tr>\n",
       "    <tr>\n",
       "      <th>239</th>\n",
       "      <td>man</td>\n",
       "      <td>346</td>\n",
       "      <td>4</td>\n",
       "    </tr>\n",
       "    <tr>\n",
       "      <th>295</th>\n",
       "      <td>men</td>\n",
       "      <td>327</td>\n",
       "      <td>5</td>\n",
       "    </tr>\n",
       "    <tr>\n",
       "      <th>...</th>\n",
       "      <td>...</td>\n",
       "      <td>...</td>\n",
       "      <td>...</td>\n",
       "    </tr>\n",
       "    <tr>\n",
       "      <th>4852</th>\n",
       "      <td>Chloris</td>\n",
       "      <td>1</td>\n",
       "      <td>8293</td>\n",
       "    </tr>\n",
       "    <tr>\n",
       "      <th>4853</th>\n",
       "      <td>priceless</td>\n",
       "      <td>1</td>\n",
       "      <td>8294</td>\n",
       "    </tr>\n",
       "    <tr>\n",
       "      <th>4855</th>\n",
       "      <td>Minyan</td>\n",
       "      <td>1</td>\n",
       "      <td>8295</td>\n",
       "    </tr>\n",
       "    <tr>\n",
       "      <th>4857</th>\n",
       "      <td>Chromius</td>\n",
       "      <td>1</td>\n",
       "      <td>8296</td>\n",
       "    </tr>\n",
       "    <tr>\n",
       "      <th>8298</th>\n",
       "      <td>newsletter</td>\n",
       "      <td>1</td>\n",
       "      <td>8297</td>\n",
       "    </tr>\n",
       "  </tbody>\n",
       "</table>\n",
       "<p>8297 rows × 3 columns</p>\n",
       "</div>"
      ],
      "text/plain": [
       "            word  frequency  rank\n",
       "141      Ulysses        635     1\n",
       "906         said        483     2\n",
       "233        house        408     3\n",
       "239          man        346     4\n",
       "295          men        327     5\n",
       "...          ...        ...   ...\n",
       "4852     Chloris          1  8293\n",
       "4853   priceless          1  8294\n",
       "4855      Minyan          1  8295\n",
       "4857    Chromius          1  8296\n",
       "8298  newsletter          1  8297\n",
       "\n",
       "[8297 rows x 3 columns]"
      ]
     },
     "execution_count": 24,
     "metadata": {},
     "output_type": "execute_result"
    }
   ],
   "source": [
    "# Drop first row from data frame\n",
    "df.drop(index=df.index[0], \n",
    "        axis=0, \n",
    "        inplace=True)\n",
    "\n",
    "# Drop first row from data frame\n",
    "df.drop(index=df.index[0], \n",
    "        axis=0, \n",
    "        inplace=True)\n",
    "\n",
    "# re-do rank with new elements\n",
    "df['rank'] = list(range(1, len(df) + 1)) \n",
    "df"
   ]
  },
  {
   "cell_type": "code",
   "execution_count": 26,
   "id": "b0f571fc",
   "metadata": {},
   "outputs": [],
   "source": [
    "sns.relplot(x=\"rank\", y=\"frequency\", data=df);"
   ]
  },
  {
   "cell_type": "markdown",
   "id": "b876d0b6",
   "metadata": {},
   "source": [
    "<div class=\"alert alert-block alert-info\"> <b>Activity.</b> Find a text that interests you.\n",
    "\n",
    "  1. Load it\n",
    "  2. Tokenize it  (what is the unit of analysis you are interested in?)\n",
    "  3. Normalize it (what pre-processing is required?)\n",
    "  4. Diagnose it  (what is still outstanding?)\n",
    "</div>"
   ]
  },
  {
   "cell_type": "markdown",
   "id": "104fec45",
   "metadata": {},
   "source": [
    "If you cannot think of anything, here's a collection of tweets by Donald Trump. Answer the following questions about it:\n",
    "\n",
    "  * What is the most frequent word tweeted by D. Trump?\n",
    "      \n",
    "  * What city does he mention most often?"
   ]
  },
  {
   "cell_type": "code",
   "execution_count": 98,
   "id": "32154bbb",
   "metadata": {},
   "outputs": [],
   "source": [
    "df_trump = pd.read_csv('https://raw.githubusercontent.com/ecdedios/into-heart-of-darkness/master/trump_20200530_clean.csv')\n",
    "df_trump = df_trump.head(1000) #just the first 1000 tweets for ease of processing "
   ]
  },
  {
   "cell_type": "code",
   "execution_count": 92,
   "id": "b9be1f05",
   "metadata": {},
   "outputs": [],
   "source": [
    "tweets = ' '.join(list(df_trump['tweet']))\n",
    "\n",
    "doc = nlp(tweets)\n",
    "# all tokens that arent stop words or punctuations\n",
    "words = [token.text\n",
    "         for token in doc\n",
    "         if not token.is_stop and not token.is_punct]\n",
    "word_freq = Counter(words)"
   ]
  },
  {
   "cell_type": "code",
   "execution_count": 96,
   "id": "a0703fac",
   "metadata": {},
   "outputs": [],
   "source": [
    "trump_freq_df = pd.DataFrame.from_records(list(dict(word_freq).items()), columns=['word','frequency'])\n",
    "trump_freq_df = trump_freq_df.sort_values(by=['frequency'], ascending=False)"
   ]
  },
  {
   "cell_type": "code",
   "execution_count": 97,
   "id": "40ec70a6",
   "metadata": {},
   "outputs": [
    {
     "data": {
      "text/html": [
       "<div>\n",
       "<style scoped>\n",
       "    .dataframe tbody tr th:only-of-type {\n",
       "        vertical-align: middle;\n",
       "    }\n",
       "\n",
       "    .dataframe tbody tr th {\n",
       "        vertical-align: top;\n",
       "    }\n",
       "\n",
       "    .dataframe thead th {\n",
       "        text-align: right;\n",
       "    }\n",
       "</style>\n",
       "<table border=\"1\" class=\"dataframe\">\n",
       "  <thead>\n",
       "    <tr style=\"text-align: right;\">\n",
       "      <th></th>\n",
       "      <th>word</th>\n",
       "      <th>frequency</th>\n",
       "    </tr>\n",
       "  </thead>\n",
       "  <tbody>\n",
       "    <tr>\n",
       "      <th>1673</th>\n",
       "      <td>RT</td>\n",
       "      <td>412</td>\n",
       "    </tr>\n",
       "    <tr>\n",
       "      <th>82</th>\n",
       "      <td>amp</td>\n",
       "      <td>136</td>\n",
       "    </tr>\n",
       "    <tr>\n",
       "      <th>2000</th>\n",
       "      <td>@realDonaldTrump</td>\n",
       "      <td>82</td>\n",
       "    </tr>\n",
       "    <tr>\n",
       "      <th>96</th>\n",
       "      <td>great</td>\n",
       "      <td>72</td>\n",
       "    </tr>\n",
       "    <tr>\n",
       "      <th>18</th>\n",
       "      <td>people</td>\n",
       "      <td>70</td>\n",
       "    </tr>\n",
       "    <tr>\n",
       "      <th>...</th>\n",
       "      <td>...</td>\n",
       "      <td>...</td>\n",
       "    </tr>\n",
       "    <tr>\n",
       "      <th>2301</th>\n",
       "      <td>HARD</td>\n",
       "      <td>1</td>\n",
       "    </tr>\n",
       "    <tr>\n",
       "      <th>2302</th>\n",
       "      <td>https://t.co/NytV20gopi</td>\n",
       "      <td>1</td>\n",
       "    </tr>\n",
       "    <tr>\n",
       "      <th>2303</th>\n",
       "      <td>dealing</td>\n",
       "      <td>1</td>\n",
       "    </tr>\n",
       "    <tr>\n",
       "      <th>2304</th>\n",
       "      <td>expensive</td>\n",
       "      <td>1</td>\n",
       "    </tr>\n",
       "    <tr>\n",
       "      <th>4893</th>\n",
       "      <td>manufactured</td>\n",
       "      <td>1</td>\n",
       "    </tr>\n",
       "  </tbody>\n",
       "</table>\n",
       "<p>4894 rows × 2 columns</p>\n",
       "</div>"
      ],
      "text/plain": [
       "                         word  frequency\n",
       "1673                       RT        412\n",
       "82                        amp        136\n",
       "2000         @realDonaldTrump         82\n",
       "96                      great         72\n",
       "18                     people         70\n",
       "...                       ...        ...\n",
       "2301                     HARD          1\n",
       "2302  https://t.co/NytV20gopi          1\n",
       "2303                  dealing          1\n",
       "2304                expensive          1\n",
       "4893             manufactured          1\n",
       "\n",
       "[4894 rows x 2 columns]"
      ]
     },
     "execution_count": 97,
     "metadata": {},
     "output_type": "execute_result"
    }
   ],
   "source": [
    "trump_freq_df"
   ]
  }
 ],
 "metadata": {
  "kernelspec": {
   "display_name": "nlpupf",
   "language": "python",
   "name": "nlpupf"
  },
  "language_info": {
   "codemirror_mode": {
    "name": "ipython",
    "version": 3
   },
   "file_extension": ".py",
   "mimetype": "text/x-python",
   "name": "python",
   "nbconvert_exporter": "python",
   "pygments_lexer": "ipython3",
   "version": "3.9.12"
  }
 },
 "nbformat": 4,
 "nbformat_minor": 5
}
