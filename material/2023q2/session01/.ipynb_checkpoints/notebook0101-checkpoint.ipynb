{
 "cells": [
  {
   "cell_type": "markdown",
   "id": "3f64214c",
   "metadata": {},
   "source": [
    "# Natural Language Processing (Session 01.01)\n",
    "\n",
    "## Overview \n",
    "\n",
    "### Presentation \n",
    "\n",
    "Welcome to NLP! This class gives an introduction to central aspects of natural language processing. It puts emphasis on hands-on experience with the acquisition, manipulation, curation, and processing of linguistic data. It covers both symbolic and statistical methods, from a theoretical and practical angle.\n",
    "\n",
    "A central goal of this class is for you to acquaint yourself with state of the art techniques used in industry and academia to structure language data and extract information from it; as well as to empower you to apply this knowledge to new problems outside the scope of this class.\n",
    "\n",
    "***\n",
    "\n",
    "### Associated skills\n",
    "\n",
    "  * python\n",
    "  * data acquisition; manipulation; curation; and processing\n",
    "  * machine learning\n",
    "  * quantitative reasoning applied to language sciences\n",
    "\n",
    "***\n",
    "\n",
    "### Prerequisites\n",
    "\n",
    "Working knowledge of *python 3*. See the *Recommendations* section of the [specialization in Computational Linguistics of the Master's for more information](https://www.upf.edu/web/masterlinguistica/linguistica-computacional)\n",
    "\n",
    "***\n",
    "\n",
    "### Contents\n",
    "\n",
    "Main tasks\n",
    "\n",
    "  * Handling text\n",
    "  * Tagging\n",
    "  * Parsing\n",
    "  * Question answering\n",
    "\n",
    "Main models & technologies\n",
    "\n",
    "  * Rule-based systems, using [spaCy](https://spacy.io/)\n",
    "  * Learned systems, using [hugging face's transformers](https://huggingface.co/)\n",
    "\n",
    "Associated topics\n",
    "\n",
    "  * Data curation\n",
    "  * Data quality\n",
    "  * Fine-tuning\n",
    "  * Training and evaluation\n",
    " \n",
    "***\n",
    "\n",
    "### Evaluation\n",
    "  \n",
    "  * 20% participation in class (5% for each instance)\n",
    "\n",
    "  * 80% exercises\n",
    "    * Exercise 1: 25% (due: DD/MM at HH:MM)\n",
    "    * Exercise 2: 25% (due: DD/MM at HH:MM)\n",
    "    * Exercise 3: 30% (due: DD/MM at HH:MM)\n",
    "\n",
    "Participation in class can be either of two kinds:\n",
    "  1. Present a concept\n",
    "  2. Present your approach/results to a problem\n",
    "\n",
    "Exercises can be done individually or in groups of 2\n",
    "\n",
    "***\n",
    "\n",
    "\n",
    "### Weekly structure \n",
    "\n",
    "Before a session:\n",
    "\n",
    "  * Prepare reading\n",
    "  * Make sure you have a working environment that fulfills the necessary dependencies\n",
    "  * Submit exercise (if due)\n",
    "  * Prepare your concept presentation (if you volunteered) \n",
    "\n",
    "The session itself:\n",
    "\n",
    "  * Roughly half is devoted to discussing concepts from a conceptual and theoretical angle (including your mini-presentations)\n",
    "  * The other half is hands-on work (including your appraoches/solutions)\n",
    "\n",
    "***\n",
    "\n",
    "### A few recommendations\n",
    "\n",
    "  * They look nice but do not program \"heavy duty\" scripts in Jupyter notebooks. Use them for dynamic presentations (or smaller scripts and collaborations)\n",
    "  * Comment your code extensively\n",
    "  * Document your choices\n",
    "  * Use (ana)conda environments\n",
    "  * Use the language that is most convenient to you whenever you can\n",
    "\n",
    "***\n",
    "\n",
    "### Short instructor bio\n",
    "\n",
    "Thomas is a professor in computational linguistics / computational cognitive science at the UPF. He's particularly interested in the way meaning is structured across languages: why it is the way it is and how it came to be that way. To answer these questions, he sometimes gets people in the lab; sometimes he uses artificial agents to simulate language (use); and other times, he uses large-scale typological data. Besides NLP, he also employs Bayesian models; game theory; and information theory in his daily research.\n",
    "\n",
    "Contact: thomas.brochhagen@upf.edu\n",
    "\n",
    "Webpage: [https://brochhagen.github.io](https://brochhagen.github.io)\n",
    "\n",
    "Main natural languages: EN, DE, ES, CAT\n",
    "\n",
    "Main programming languages: python, R, Stan"
   ]
  },
  {
   "cell_type": "markdown",
   "id": "4db27f45",
   "metadata": {},
   "source": [
    "*** \n",
    "\n",
    "# Some remarks on ancillaries (Session 01.02)\n",
    "\n",
    "## What is a Jupyter notebook?\n",
    "\n",
    "\n",
    "It is a dynamic programming interface, a \"web application for creating and sharing computational documents.\" See [https://jupyter.org/](https://jupyter.org/) for full documentation."
   ]
  },
  {
   "cell_type": "code",
   "execution_count": null,
   "id": "c1e87677",
   "metadata": {},
   "outputs": [],
   "source": [
    "# A Jupyter notebook consists of different cells. \n",
    "# The cell above is interpreted as Markdown\n",
    "# This cell is interpreted as python 3.0\n",
    "\n",
    "print('Testing that this is, indeed, python')"
   ]
  },
  {
   "cell_type": "code",
   "execution_count": null,
   "id": "e56470ea",
   "metadata": {},
   "outputs": [],
   "source": [
    "# When running a python cell, you see the output just below\n",
    "# For example:\n",
    "\n",
    "4+4 "
   ]
  },
  {
   "cell_type": "code",
   "execution_count": null,
   "id": "3cd65086",
   "metadata": {},
   "outputs": [],
   "source": [
    "# What is the output of this cell?\n",
    "\n",
    "for i in range(1,10):\n",
    "    print(i * 2)"
   ]
  },
  {
   "cell_type": "markdown",
   "id": "927340a8",
   "metadata": {},
   "source": [
    "In this class most of the material is made up of one or more Jupyter notebooks. You will find them in [Campus Global](www.upf.edu/intranet/campus-global),together with `.py`- and `.pdf`-versions"
   ]
  },
  {
   "cell_type": "markdown",
   "id": "5732e366",
   "metadata": {},
   "source": [
    "***\n",
    "\n",
    "# What is a(n) (ana)conda environment?\n",
    "\n"
   ]
  },
  {
   "cell_type": "code",
   "execution_count": null,
   "id": "046dbda8",
   "metadata": {},
   "outputs": [],
   "source": []
  }
 ],
 "metadata": {
  "kernelspec": {
   "display_name": "Python 3 (ipykernel)",
   "language": "python",
   "name": "python3"
  },
  "language_info": {
   "codemirror_mode": {
    "name": "ipython",
    "version": 3
   },
   "file_extension": ".py",
   "mimetype": "text/x-python",
   "name": "python",
   "nbconvert_exporter": "python",
   "pygments_lexer": "ipython3",
   "version": "3.9.12"
  }
 },
 "nbformat": 4,
 "nbformat_minor": 5
}
