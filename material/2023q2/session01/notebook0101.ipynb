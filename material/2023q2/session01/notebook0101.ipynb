{
 "cells": [
  {
   "cell_type": "markdown",
   "id": "3f64214c",
   "metadata": {},
   "source": [
    "Open in colab: https://colab.research.google.com/github/brochhagen/nlpupf/blob/main/material/2023q2/session01/notebook0101.ipynb\n",
    "\n",
    "# Natural Language Processing (Session 01.01)\n",
    "\n",
    "## Overview \n",
    "\n",
    "### Presentation \n",
    "\n",
    "Welcome to **N**atural **L**anguage **P**rocessing! This class gives an introduction to central aspects of natural language processing. It puts its main emphasis on hands-on experience with the acquisition, manipulation, curation, and processing of linguistic data. It covers both symbolic and statistical methods, from a theoretical and practical angle.\n",
    "\n",
    "A central goal of this class is for you to acquaint yourself with state of the art techniques used in industry and academia to structure language data and extract information from it; as well as to empower you to apply this knowledge to new problems outside the scope of this class. \n",
    "\n",
    "On the one hand, you will learn to reason about problems and tasks that arise when processing linguistic information. On the other, you will learn about common methods and approaches to address them. My suggestion: Focus on the former, but keep the latter in mind for when you need it.\n",
    "\n",
    "***\n",
    "\n",
    "### Associated skills\n",
    "\n",
    "  * python\n",
    "  * data acquisition; manipulation; curation; and processing\n",
    "  * machine learning\n",
    "  * quantitative reasoning applied to language sciences\n",
    "\n",
    "***\n",
    "\n",
    "### Prerequisites\n",
    "\n",
    "Working knowledge of *python 3*. \n",
    "\n",
    "See the *Recommendations* section of the __[specialization in Computational Linguistics of the Master's for more information](https://www.upf.edu/web/masterlinguistica/linguistica-computacional)__\n",
    "\n",
    "***\n",
    "\n",
    "### Contents\n",
    "\n",
    "1. **Main tasks**\n",
    "\n",
    "  * Handling text\n",
    "  * Tagging\n",
    "  * Parsing\n",
    "  \n",
    "\n",
    "2. **Main models & technologies**\n",
    "\n",
    "  * Industrial speed & strength streamlined modlels, using __[spaCy](https://spacy.io/)__\n",
    "  * Larger state-of-the-art systems, using __[hugging face's transformers](https://huggingface.co/)__\n",
    "\n",
    "3. **Associated topics**\n",
    "\n",
    "  * Data curation\n",
    "  * Data quality\n",
    "  * Fine-tuning\n",
    "  * Training and evaluation\n",
    " \n",
    "***\n",
    "\n",
    "### Evaluation\n",
    "  \n",
    "  * 20% participation in class (5% for each instance, so four in total for all 20%)\n",
    "\n",
    "  * 80% exercises\n",
    "    * Exercise 1: 25% (due: 13/02 at 23:59)\n",
    "    * Exercise 2: 25% (due: 27/02 at 23:59)\n",
    "    * Exercise 3: 30% (due: 27/03 at 23:59)\n",
    "\n",
    "Participation in class can be either of two kinds:\n",
    "  1. Present a new concept. Concepts for the next session are announced at the end of each session\n",
    "  2. Present your approach/results to a problem in class\n",
    "\n",
    "Exercises can be done individually or in groups of up to three members.\n",
    "\n",
    "***\n",
    "\n",
    "\n",
    "### Weekly structure \n",
    "\n",
    "Before a session:\n",
    "\n",
    "  * Prepare reading\n",
    "  * Make sure you have a working environment that fulfills the necessary dependencies\n",
    "  * Submit exercise (if due)\n",
    "  * Prepare your concept presentation (if you volunteered) \n",
    "\n",
    "The session itself:\n",
    "\n",
    "  * Roughly half is devoted to discussing concepts from a conceptual and theoretical angle (including your mini-presentations)\n",
    "  * The other half is hands-on work\n",
    "\n",
    "***\n",
    "\n",
    "### A few recommendations\n",
    "\n",
    "  * They look nice but do not write \"heavy duty\" scripts in Jupyter notebooks. Use them for dynamic presentations (or smaller scripts and collaborations)\n",
    "  * Comment your code extensively\n",
    "  * Document your choices\n",
    "  * Use virtual environments (e.g., [ana]conda) for your projects\n",
    "  * Use the language that is most convenient to you whenever you can. For this class, python and R are admissible\n",
    "\n",
    "***\n",
    "\n",
    "### Short instructor bio\n",
    "\n",
    "Thomas is a professor in computational linguistics / computational cognitive science at the UPF. He's particularly interested in the way language is structured: why it is the way it is and how it came to be that way. To answer these questions, he sometimes gets people in the lab; sometimes he uses artificial agents to simulate language (use); and other times, he uses large-scale typological data. Besides NLP and machine learning, he also employs Bayesian models; game theory; and information theory in his daily research.\n",
    "\n",
    "Contact: __thomas.brochhagen@upf.edu__\n",
    "\n",
    "Webpage: __[https://brochhagen.github.io](https://brochhagen.github.io)__\n",
    "\n",
    "Main natural languages: EN, DE, ES, CAT\n",
    "\n",
    "Main programming languages: python, R, Stan\n",
    "\n",
    "### Teaching assistant\n",
    "Jeanne Bruneau--Bongard (__jeanne.bruneau.bongard@gmail.com__)\n",
    "\n",
    "***"
   ]
  },
  {
   "cell_type": "markdown",
   "id": "e568480d",
   "metadata": {},
   "source": [
    "\n",
    "<div class=\"alert alert-block alert-info\"> <b>Class activity.</b> Who are you? What is your background? What do you expect from this class? Is there any particular topic/problem/... you'd like to cover, or a particular skill to acquire? </div>\n"
   ]
  },
  {
   "cell_type": "markdown",
   "id": "4db27f45",
   "metadata": {},
   "source": [
    "*** \n",
    "\n",
    "# Some ancillaries (Session 01.02)\n",
    "\n",
    "## What is a Jupyter notebook?\n",
    "\n",
    "\n",
    "It is a dynamic programming interface, a \"web application for creating and sharing computational documents.\" See [https://jupyter.org/](https://jupyter.org/) for full documentation."
   ]
  },
  {
   "cell_type": "code",
   "execution_count": 1,
   "id": "c1e87677",
   "metadata": {},
   "outputs": [
    {
     "name": "stdout",
     "output_type": "stream",
     "text": [
      "Testing that this is, indeed, python 3 and not 2\n"
     ]
    }
   ],
   "source": [
    "# A Jupyter notebook consists of different cells. \n",
    "# The cell above is interpreted as Markdown\n",
    "# This cell is interpreted as python 3.0\n",
    "\n",
    "print('Testing that this is, indeed, python 3 and not 2')"
   ]
  },
  {
   "cell_type": "code",
   "execution_count": 2,
   "id": "e56470ea",
   "metadata": {},
   "outputs": [
    {
     "data": {
      "text/plain": [
       "8"
      ]
     },
     "execution_count": 2,
     "metadata": {},
     "output_type": "execute_result"
    }
   ],
   "source": [
    "# When running a python cell, you see the output just below\n",
    "# For example:\n",
    "\n",
    "4+4 "
   ]
  },
  {
   "cell_type": "code",
   "execution_count": 1,
   "id": "3cd65086",
   "metadata": {},
   "outputs": [
    {
     "name": "stdout",
     "output_type": "stream",
     "text": [
      "2\n",
      "4\n",
      "6\n",
      "8\n",
      "10\n",
      "12\n",
      "14\n",
      "16\n",
      "18\n"
     ]
    }
   ],
   "source": [
    "# What is the output of this cell?\n",
    "\n",
    "for i in range(1,10):\n",
    "    print(i * 2)"
   ]
  },
  {
   "cell_type": "markdown",
   "id": "927340a8",
   "metadata": {},
   "source": [
    "In this class most of the material is made up of one or more Jupyter notebooks. You will find them in __[Campus Global](www.upf.edu/intranet/campus-global)__"
   ]
  },
  {
   "cell_type": "markdown",
   "id": "5732e366",
   "metadata": {},
   "source": [
    "***\n",
    "\n",
    "## What is a(n) (ana)conda environment?\n",
    "\n",
    "Anaconda is a python and R distribution for package/environment managing. Essentially, a way to separate the modules/packages you need for a project from your other projects' modules; to avoid conflicts and keep things light.\n",
    "\n",
    "See: __[https://docs.anaconda.com/anaconda/](https://docs.anaconda.com/anaconda/)__\n"
   ]
  },
  {
   "cell_type": "markdown",
   "id": "44f79c2c",
   "metadata": {},
   "source": [
    "*** \n",
    "\n",
    "## What is colab(oratory)?\n",
    "\n",
    "An easy way to run Jupyter notebooks on Google's servers and share them with others. Intuitively, it's Google Docs but for notebooks. \n",
    "\n",
    "A particularly decent option to consider if you want to do some heavier computations.\n",
    "\n",
    "See: __[https://colab.research.google.com](https://colab.research.google.com)__"
   ]
  },
  {
   "cell_type": "markdown",
   "id": "a3adeca4",
   "metadata": {},
   "source": [
    "*** \n",
    "\n",
    "## How do I manage and structure my code?\n",
    "\n",
    "This is not a programming class. However, the expectations is that the code you share with others is well structured and documented. Ideally, the same is true of your code --and research documentation-- in general, whether others see it or not.\n",
    "\n",
    "If you would like to learn how to properly manage and structure projects, __[The Good Research Code Handbook](https://goodresearch.dev/index.html)__ is a good starting point.\n"
   ]
  },
  {
   "cell_type": "markdown",
   "id": "5ab15757",
   "metadata": {},
   "source": [
    "***\n",
    "\n",
    "## Main modules:\n",
    "\n",
    "* `spacy`\n",
    "* `transformers`\n",
    "* `spacy-transformers`\n",
    "* `BeautifulSoup`"
   ]
  }
 ],
 "metadata": {
  "kernelspec": {
   "display_name": "nlpupf",
   "language": "python",
   "name": "nlpupf"
  },
  "language_info": {
   "codemirror_mode": {
    "name": "ipython",
    "version": 3
   },
   "file_extension": ".py",
   "mimetype": "text/x-python",
   "name": "python",
   "nbconvert_exporter": "python",
   "pygments_lexer": "ipython3",
   "version": "3.9.13"
  }
 },
 "nbformat": 4,
 "nbformat_minor": 5
}
