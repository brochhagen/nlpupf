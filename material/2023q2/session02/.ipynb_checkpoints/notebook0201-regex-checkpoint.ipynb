{
 "cells": [
  {
   "cell_type": "markdown",
   "id": "ece2f3b5",
   "metadata": {},
   "source": [
    "# Regular expressions\n",
    "\n",
    "Regular expressions (REs or regex) are character sequences used for information retrieval. They are commonly used to retrieve strings that match a pattern; or to substitute strings that match a pattern with another string.\n",
    "\n",
    "Regular expressions are used in most operating systems and programming languages. They are fast and convenient."
   ]
  },
  {
   "cell_type": "code",
   "execution_count": 1,
   "id": "00eb6703",
   "metadata": {},
   "outputs": [],
   "source": [
    "import re #python's package for REs\n",
    "source =  'I went up to my bedroom. Absurd though the gesture was, I closed and locked the door.' #sentence from Borge's The Garden of Forking Paths"
   ]
  },
  {
   "cell_type": "code",
   "execution_count": 2,
   "id": "213684da",
   "metadata": {},
   "outputs": [
    {
     "name": "stdout",
     "output_type": "stream",
     "text": [
      "['I', 'I']\n"
     ]
    }
   ],
   "source": [
    "#findall returns a list of all occurences of the pattern (first argument) in the string (second arg.)\n",
    "target = re.findall('I', source)\n",
    "print(target)"
   ]
  },
  {
   "cell_type": "code",
   "execution_count": 3,
   "id": "37faa852",
   "metadata": {},
   "outputs": [
    {
     "name": "stdout",
     "output_type": "stream",
     "text": [
      "We went up to my bedroom. Absurd though the gesture was, We closed and locked the door.\n"
     ]
    }
   ],
   "source": [
    "#sub returns the string, substituting pattern (1) by pattern (2) in source (3)\n",
    "target = re.sub('I', 'We', source)\n",
    "print(target)"
   ]
  },
  {
   "cell_type": "code",
   "execution_count": 4,
   "id": "64c6e008",
   "metadata": {},
   "outputs": [
    {
     "name": "stdout",
     "output_type": "stream",
     "text": [
      "We went up to my bedroom. Absurd though the gesture was, we closed and locked the door.\n"
     ]
    }
   ],
   "source": [
    "#sub returns the string, substituting pattern (1) by pattern (2) in source (3)\n",
    "target = re.sub('I', 'we', source)\n",
    "target = re.sub('^we', 'We', target)\n",
    "print(target)"
   ]
  },
  {
   "cell_type": "markdown",
   "id": "32e98245",
   "metadata": {},
   "source": [
    "<div class=\"alert alert-block alert-success\"> <b>Activity.</b> <br>\n",
    "    <ol>1. Count how many spaces there are in \"source\"</ol>\n",
    "    <ol>2. Replace all the spaces in \"source\" with \"SPACE\" </ol>\n",
    "</div>\n",
    "\n",
    "***\n",
    "\n"
   ]
  },
  {
   "cell_type": "markdown",
   "id": "f61b5392",
   "metadata": {},
   "source": [
    "## A couple of notes on regular expressions\n",
    "\n",
    "### Greedy vs. lazy"
   ]
  },
  {
   "cell_type": "code",
   "execution_count": 5,
   "id": "40a8c403",
   "metadata": {},
   "outputs": [
    {
     "data": {
      "text/plain": [
       "'This string is composed of four sentencesThree.'"
      ]
     },
     "execution_count": 5,
     "metadata": {},
     "output_type": "execute_result"
    }
   ],
   "source": [
    "# Greedy matching\n",
    "source = 'This string is composed of four sentences. One. Two. Three.'\n",
    "\n",
    "re.sub('\\..* ', '', source) #greedy substitution: substitute the largest match"
   ]
  },
  {
   "cell_type": "code",
   "execution_count": 6,
   "id": "ee291274",
   "metadata": {},
   "outputs": [
    {
     "data": {
      "text/plain": [
       "'This string is composed of four sentencesOneTwoThree.'"
      ]
     },
     "execution_count": 6,
     "metadata": {},
     "output_type": "execute_result"
    }
   ],
   "source": [
    "re.sub('\\..*? ', '', source) #lazy substitution: substitute the shortest match"
   ]
  },
  {
   "cell_type": "markdown",
   "id": "011020ef",
   "metadata": {},
   "source": [
    "### String formatting in python\n",
    "\n",
    "In python, `\\` has a special meaning. For instance, you can use it to format your strings:"
   ]
  },
  {
   "cell_type": "code",
   "execution_count": 7,
   "id": "cf9954cc",
   "metadata": {},
   "outputs": [
    {
     "name": "stdout",
     "output_type": "stream",
     "text": [
      "This string \n",
      "has a line break\n"
     ]
    }
   ],
   "source": [
    "print('This string \\nhas a line break')"
   ]
  },
  {
   "cell_type": "markdown",
   "id": "91100ca0",
   "metadata": {},
   "source": [
    "This is important to know because patterns in regex use `\\`. For instance, `\\b` is a word boundary. If you want `python` to not interpret `\\` as a special symbol so that it is passed to `re` correctly, you can either escape the special character (i) using a backspace `\\\\b` or (ii) forcing `python` to interpret the string as a so-called raw string (e.g., `r'this is a \\b raw string'`)"
   ]
  },
  {
   "cell_type": "code",
   "execution_count": 8,
   "id": "0d846cc8",
   "metadata": {},
   "outputs": [
    {
     "name": "stdout",
     "output_type": "stream",
     "text": [
      "This string \\nhas no line break\n",
      "This string \\nhas no line break\n"
     ]
    }
   ],
   "source": [
    "#Option 1:\n",
    "print('This string \\\\nhas no line break')\n",
    "\n",
    "#Option 2:\n",
    "print(r'This string \\nhas no line break')"
   ]
  },
  {
   "cell_type": "markdown",
   "id": "c754b69c",
   "metadata": {},
   "source": [
    "## A speech\n",
    "\n",
    "In what follows, we will practice regex based on the most recent inaugural presidential speech from the USA. We begin by scraping them from the webpage https://www.whitehouse.gov to get the speech.\n",
    "\n",
    "It is not necessary that you understand all the steps to do the scraping. At this early stage, the important thing is to take note of what can be done; not how it is done. If you're curious to learn more, the package `BeautifulSoup` is a famous webscraping library for `python`.\n"
   ]
  },
  {
   "cell_type": "code",
   "execution_count": 9,
   "id": "186fb8b6",
   "metadata": {},
   "outputs": [],
   "source": [
    "import requests\n",
    "from bs4 import BeautifulSoup"
   ]
  },
  {
   "cell_type": "code",
   "execution_count": 10,
   "id": "46986f82",
   "metadata": {},
   "outputs": [],
   "source": [
    "#Biden speech\n",
    "URL = \"https://www.whitehouse.gov/briefing-room/speeches-remarks/2021/01/20/inaugural-address-by-president-joseph-r-biden-jr/\"\n",
    "page = requests.get(URL)\n",
    "\n",
    "soup = BeautifulSoup(page.content, \"html.parser\")\n",
    "results = soup.find(id=\"content\")\n",
    "biden_speech = list(results.find_all(\"p\"))\n",
    "biden_speech = [str(x) for x in biden_speech]"
   ]
  },
  {
   "cell_type": "code",
   "execution_count": 11,
   "id": "4d18bc1d",
   "metadata": {},
   "outputs": [
    {
     "data": {
      "text/plain": [
       "['<p>11:52 AM EST</p>',\n",
       " '<p>THE PRESIDENT: Chief Justice Roberts, Vice President Harris, Speaker Pelosi, Leader Schumer, Leader McConnell, Vice President Pence, distinguished guests, and my fellow Americans.</p>',\n",
       " '<p>This is America’s day.</p>',\n",
       " '<p>This is democracy’s day.</p>']"
      ]
     },
     "execution_count": 11,
     "metadata": {},
     "output_type": "execute_result"
    }
   ],
   "source": [
    "biden_speech[1:5]"
   ]
  },
  {
   "cell_type": "markdown",
   "id": "4dea8906",
   "metadata": {},
   "source": [
    "<div class=\"alert alert-block alert-success\"> <b>Activity.</b> <br>\n",
    "    <ul>\n",
    "    <ol>1. Format \"biden_speech\" so that you can conveniently apply regex on it</ol>\n",
    "    <ol>2. Clean the speech using regex. Minimally, remove HTML tags</ol>\n",
    "    <ol>3. Count how many times the following strings appear in the speech:  \n",
    "      <ul>\n",
    "          <li>The word \"America\"</li>\n",
    "          <li>The stem \"America-\" (e.g., \"America\" but also \"American\")</li>\n",
    "          <li>The word \"we\", case-insensitive</li>\n",
    "          <li>The word \"I\", case-insensitive</li>\n",
    "          <li>The letter \"i\", case-insensitive</li>\n",
    "      </ul>\n",
    "    </ol>\n",
    "    </ul>\n",
    "</div>\n",
    "\n",
    "***"
   ]
  }
 ],
 "metadata": {
  "kernelspec": {
   "display_name": "Python 3 (ipykernel)",
   "language": "python",
   "name": "python3"
  },
  "language_info": {
   "codemirror_mode": {
    "name": "ipython",
    "version": 3
   },
   "file_extension": ".py",
   "mimetype": "text/x-python",
   "name": "python",
   "nbconvert_exporter": "python",
   "pygments_lexer": "ipython3",
   "version": "3.9.13"
  }
 },
 "nbformat": 4,
 "nbformat_minor": 5
}
