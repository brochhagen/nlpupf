{
 "cells": [
  {
   "cell_type": "markdown",
   "id": "670446a0",
   "metadata": {},
   "source": [
    "# Handling text exercises\n",
    "\n",
    "Your task is to normalize two different texts. Minimally, tokenize and lemmatize them, and remove stop words and punctuation marks. \n",
    "\n",
    "\n",
    "\n",
    "<div class=\"alert alert-block alert-success\">\n",
    "Answer the following questions about book 1:\n",
    "\n",
    "  1. How many times does the word \"carrot\" appear in the text?\n",
    "  2. How many chapters does the book have?\n",
    "  3. How many recipes does the book have?\n",
    "  4. Are the recipes vegan or vegetarian?\n",
    "  5. What are the 5 most frequently mentioned ingredients?\n",
    "\n",
    "Hard bonus question:\n",
    "    \n",
    "  6. How many carrots would you need to buy to make all recipes that involve carrots?\n",
    "</div>\n",
    "\n",
    "<div class=\"alert alert-block alert-success\">\n",
    "Answer the following questions about book 2:\n",
    "    \n",
    "  1. How many times does the string \"Josef K\" appear in the text?\n",
    "  2. What is the longest word in the book?\n",
    "  3. What are the 5 most frequent nouns?\n",
    "</div>\n",
    "\n",
    "\n",
    "### Book 1: Dishes made without meat by Mrs. C. S. Peel\n",
    "\n",
    "Source: [https://www.gutenberg.org/ebooks/69346](https://www.gutenberg.org/ebooks/69346)\n",
    "\n",
    "### Book 2: Der Prozess by Franz Kafka\n",
    "\n",
    "Source: [https://www.gutenberg.org/ebooks/69327](https://www.gutenberg.org/ebooks/69327)\n",
    "\n",
    "### Suggestions\n",
    "\n",
    "* Work with a fragment first in which you know the correct answers\n"
   ]
  },
  {
   "cell_type": "code",
   "execution_count": null,
   "id": "e5f937b6",
   "metadata": {},
   "outputs": [],
   "source": []
  }
 ],
 "metadata": {
  "kernelspec": {
   "display_name": "nlpupf",
   "language": "python",
   "name": "nlpupf"
  },
  "language_info": {
   "codemirror_mode": {
    "name": "ipython",
    "version": 3
   },
   "file_extension": ".py",
   "mimetype": "text/x-python",
   "name": "python",
   "nbconvert_exporter": "python",
   "pygments_lexer": "ipython3",
   "version": "3.9.13"
  }
 },
 "nbformat": 4,
 "nbformat_minor": 5
}
