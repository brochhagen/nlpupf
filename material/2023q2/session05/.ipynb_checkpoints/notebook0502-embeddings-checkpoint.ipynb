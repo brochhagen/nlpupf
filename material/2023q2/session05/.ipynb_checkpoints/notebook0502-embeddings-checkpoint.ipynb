{
 "cells": [
  {
   "cell_type": "markdown",
   "id": "672a445c",
   "metadata": {},
   "source": [
    "# Transformers and spaCy\n",
    "\n",
    "`spaCy` has a wrapper for the `transformers` library, called `spacy-transformers`. There are some tasks that the wrapper does not support (for instance, <MASK>-prediction, since it is considered a Natural Language Generation task); but many are supported, including fine tuning.\n",
    "    \n",
    "More information can be found on spaCy's webpage and [here](https://explosion.ai/blog/spacy-transformers)\n",
    "    \n",
    "    \n",
    "# Word embeddings\n",
    "Typically, real-valued representations of words learned from text (often: through a language modelling task). You can regard word embeddings as one of the main components of linguistic knowledge they acquired after training.    \n",
    "    \n",
    "    \n",
    "You can easily access a language model's word embeddings\n",
    "    \n",
    "### Static embeddings"
   ]
  },
  {
   "cell_type": "code",
   "execution_count": 23,
   "id": "9b3dae1e",
   "metadata": {},
   "outputs": [
    {
     "name": "stdout",
     "output_type": "stream",
     "text": [
      "First thirty dimensions of the vector for \"Apple\" in doc1:\n",
      " [-0.6334     0.18981   -0.53544   -0.52658   -0.30001    0.30559\n",
      " -0.49303    0.14636    0.012273   0.96802    0.0040354  0.25234\n",
      " -0.29864   -0.014646  -0.24905   -0.67125   -0.053366   0.59426\n",
      " -0.068034   0.10315    0.66759    0.024617  -0.37548    0.52557\n",
      "  0.054449  -0.36748   -0.28013    0.090898  -0.025687  -0.5947   ]\n",
      "\n",
      " First thirty dimensions of the vector for \"Apple\" in doc1:\n",
      " [-0.6334     0.18981   -0.53544   -0.52658   -0.30001    0.30559\n",
      " -0.49303    0.14636    0.012273   0.96802    0.0040354  0.25234\n",
      " -0.29864   -0.014646  -0.24905   -0.67125   -0.053366   0.59426\n",
      " -0.068034   0.10315    0.66759    0.024617  -0.37548    0.52557\n",
      "  0.054449  -0.36748   -0.28013    0.090898  -0.025687  -0.5947   ]\n",
      "\n",
      " Number of dimensions/shape of the word embeddings in en_core_web_md:\n",
      " (300,)\n",
      "\n",
      " Are the two vectors identical? True\n"
     ]
    }
   ],
   "source": [
    "import spacy\n",
    "\n",
    "nlp = spacy.load('en_core_web_md') #spaCy sm models do not ship with word embeddings\n",
    "\n",
    "doc1 = nlp('Apple shares rose on the news.')\n",
    "doc2 = nlp('Apple pie is delicious.')\n",
    "\n",
    "print('First thirty dimensions of the vector for \"Apple\" in doc1:\\n',\n",
    "      doc1[0].vector[:30])\n",
    "print('\\n First thirty dimensions of the vector for \"Apple\" in doc1:\\n',\n",
    "      doc2[0].vector[:30])\n",
    "print('\\n Number of dimensions/shape of the word embeddings in en_core_web_md:\\n', doc1[0].vector.shape)\n",
    "\n",
    "print('\\n Are the two vectors identical?', (doc1[0].vector == doc2[0].vector).all())"
   ]
  },
  {
   "cell_type": "markdown",
   "id": "09e10018",
   "metadata": {},
   "source": [
    "<div class=\"alert alert-block alert-info\"> <b>Discussion.</b> What do you expect to be the similarity ranking of the words \"cat\", \"snake\", \"car\" and \"random\" with respect to the word \"dog\"?</div>\n",
    "\n",
    "<div class=\"alert alert-block alert-success\"> <b>Activity.</b> Use spaCy's en_core_web_md's word embeddings to retrieve the similarities of the words above.\n",
    "<div>\n",
    "\n"
   ]
  },
  {
   "cell_type": "markdown",
   "id": "1924d443",
   "metadata": {},
   "source": [
    "<div class=\"alert alert-block alert-success\"> <b>Activity.</b> Use spaCy's en_core_web_md's word embeddings to find:<br>\n",
    "    \n",
    "  1. The word with the smallest cosine similarity to the word \"apple\"; \n",
    "  2. The largest cosine similarity to the word \"apple\";\n",
    "  3. The second largest cosine similarity to the word \"apple\".\n",
    "</div>\n",
    "\n",
    "***    \n",
    "\n",
    "SpaCy's `similarity`-function is not only restricted to tokens, but can also be applied to documents and spans. Their representations are the average of the token vectors that are found within the document/span."
   ]
  },
  {
   "cell_type": "code",
   "execution_count": 41,
   "id": "3ef7722b",
   "metadata": {},
   "outputs": [
    {
     "name": "stdout",
     "output_type": "stream",
     "text": [
      "I like salty fries and hamburgers. <-> Fast food tastes very good. 0.8015960629076846\n",
      "salty fries <-> hamburgers 0.5733411312103271\n"
     ]
    }
   ],
   "source": [
    "doc1 = nlp(\"I like salty fries and hamburgers.\")\n",
    "doc2 = nlp(\"Fast food tastes very good.\")\n",
    "\n",
    "# Similarity of two documents\n",
    "print(doc1, \"<->\", doc2, doc1.similarity(doc2))\n",
    "# Similarity of tokens and spans\n",
    "french_fries = doc1[2:4]\n",
    "burgers = doc1[5]\n",
    "print(french_fries, \"<->\", burgers, french_fries.similarity(burgers))"
   ]
  },
  {
   "cell_type": "markdown",
   "id": "3cf78d3f",
   "metadata": {},
   "source": [
    "<div class=\"alert alert-block alert-info\"> <b>Discussion.</b> Is the \"mean embedding\" of the tokens within a document/span a reasonable representation for a document/span? What are its disadvantages? Can you think of alternatives?</div>\n",
    "\n",
    "See __[Nouns are Vectors, Adjectives are Matrices](https://aclanthology.org/D10-1115.pdf)__, i.a., for compositional vectorial representations for static vectors.\n",
    "\n",
    "***\n",
    "\n",
    "### Contextualized embeddings"
   ]
  },
  {
   "cell_type": "code",
   "execution_count": 50,
   "id": "affc698a",
   "metadata": {},
   "outputs": [],
   "source": [
    "nlp_trf = spacy.load('en_core_web_trf')\n",
    "\n",
    "doc1 = nlp_trf(\"Apple shares rose on the news.\")"
   ]
  },
  {
   "cell_type": "code",
   "execution_count": 32,
   "id": "5fd3c9ff",
   "metadata": {},
   "outputs": [
    {
     "data": {
      "text/plain": [
       "7"
      ]
     },
     "execution_count": 32,
     "metadata": {},
     "output_type": "execute_result"
    }
   ],
   "source": [
    "# length of the doc1-object\n",
    "doc1.__len__() #why 7 and not 6?"
   ]
  },
  {
   "cell_type": "code",
   "execution_count": 33,
   "id": "75b8610d",
   "metadata": {},
   "outputs": [
    {
     "data": {
      "text/plain": [
       "(1, 9, 768)"
      ]
     },
     "execution_count": 33,
     "metadata": {},
     "output_type": "execute_result"
    }
   ],
   "source": [
    "# the \"tensors\"-attribute of a TransformerData object contains \n",
    "#a Python list with vector representations generated by the transformer\n",
    "#for individual tokens and the entire doc1 object.\n",
    "\n",
    "# Check the shape of the first item in the list. \n",
    "#This is the output for individual tokens\n",
    "doc1._.trf_data.tensors[0].shape #1 batch of 9 vectors with 768 dimensions each"
   ]
  },
  {
   "cell_type": "markdown",
   "id": "098c31ae",
   "metadata": {},
   "source": [
    "You can think of a **tensor** as a bundle of numerical objects; or as a multi-dimensional array; or as a higher-dimensional matrix."
   ]
  },
  {
   "cell_type": "code",
   "execution_count": 34,
   "id": "126b20c3",
   "metadata": {},
   "outputs": [
    {
     "data": {
      "text/plain": [
       "(1, 768)"
      ]
     },
     "execution_count": 34,
     "metadata": {},
     "output_type": "execute_result"
    }
   ],
   "source": [
    "# Check the shape of the second item in the list. \n",
    "#This is the output for the entire document\n",
    "doc1._.trf_data.tensors[1].shape"
   ]
  },
  {
   "cell_type": "code",
   "execution_count": 37,
   "id": "b0afebce",
   "metadata": {},
   "outputs": [
    {
     "data": {
      "text/plain": [
       "array([[-0.02419195,  0.00347404, -0.82839984, ...,  0.3204193 ,\n",
       "         0.6912029 , -0.03307062],\n",
       "       [-0.6120319 ,  0.68185633, -0.32543862, ...,  1.0084194 ,\n",
       "        -0.27445263,  0.17246294],\n",
       "       [-1.1976653 ,  1.0952203 , -0.51286656, ...,  1.0510603 ,\n",
       "        -1.0514488 , -0.6002351 ],\n",
       "       ...,\n",
       "       [-0.24873887, -0.60771364, -0.25459698, ..., -0.6928086 ,\n",
       "        -0.34879273,  0.36271068],\n",
       "       [-0.03674727, -0.06959243, -1.5592436 , ...,  0.25073642,\n",
       "         1.0069203 ,  0.31602612],\n",
       "       [-0.0369583 , -0.0689571 , -1.5576652 , ...,  0.2519927 ,\n",
       "         1.0056583 ,  0.31408337]], dtype=float32)"
      ]
     },
     "execution_count": 37,
     "metadata": {},
     "output_type": "execute_result"
    }
   ],
   "source": [
    "# First ten dimensions of the tensor\n",
    "doc1._.trf_data.tensors[0][0][:10] "
   ]
  },
  {
   "cell_type": "markdown",
   "id": "8a45827b",
   "metadata": {},
   "source": [
    "This looks very similar to the embeddings we had before; only that we're now talking about tensors and accessing them is a little more cumbersome. \n",
    "\n",
    "However, we had established that there were **7** tokens in `doc1` but we now have **9** embeddings."
   ]
  },
  {
   "cell_type": "code",
   "execution_count": 38,
   "id": "ac51d466",
   "metadata": {},
   "outputs": [
    {
     "data": {
      "text/plain": [
       "[['<s>', 'Apple', 'Ġshares', 'Ġrose', 'Ġon', 'Ġthe', 'Ġnews', '.', '</s>']]"
      ]
     },
     "execution_count": 38,
     "metadata": {},
     "output_type": "execute_result"
    }
   ],
   "source": [
    "# Access the Transformer tokens under the key 'input_texts'\n",
    "doc1._.trf_data.tokens['input_texts']"
   ]
  },
  {
   "cell_type": "code",
   "execution_count": 40,
   "id": "190ca309",
   "metadata": {},
   "outputs": [
    {
     "data": {
      "text/plain": [
       "[['<s>',\n",
       "  'Do',\n",
       "  'Ġyou',\n",
       "  'Ġreally',\n",
       "  'Ġneed',\n",
       "  'Ġa',\n",
       "  'Ġrepresentation',\n",
       "  'Ġfor',\n",
       "  'Ġwords',\n",
       "  'Ġlike',\n",
       "  'Ġmis',\n",
       "  'communication',\n",
       "  'Ġor',\n",
       "  'Ġword',\n",
       "  'ly',\n",
       "  '?',\n",
       "  '</s>']]"
      ]
     },
     "execution_count": 40,
     "metadata": {},
     "output_type": "execute_result"
    }
   ],
   "source": [
    "doc_split = nlp_trf('Do you really need a representation for words like miscommunication or wordly?')\n",
    "doc_split._.trf_data.tokens['input_texts']"
   ]
  },
  {
   "cell_type": "markdown",
   "id": "3292f8d9",
   "metadata": {},
   "source": [
    "Sub-word representations are a standard solution for out of vocabulary representations. See also __[fastText](https://fasttext.cc/)__ for static sub-word representations.\n",
    "\n",
    "Since tokens may not correspond 1:1 to individual vectors, we first need to align them."
   ]
  },
  {
   "cell_type": "code",
   "execution_count": 55,
   "id": "649d2052",
   "metadata": {},
   "outputs": [
    {
     "data": {
      "text/plain": [
       "(miscommunication,\n",
       " array([[10],\n",
       "        [11]], dtype=int32))"
      ]
     },
     "execution_count": 55,
     "metadata": {},
     "output_type": "execute_result"
    }
   ],
   "source": [
    "#the vectors corresponding to token 9 (miscommunication)\n",
    "doc_split[9], doc_split._.trf_data.align[9].data"
   ]
  },
  {
   "cell_type": "code",
   "execution_count": 56,
   "id": "2fbd79d3",
   "metadata": {},
   "outputs": [
    {
     "data": {
      "text/plain": [
       "(Apple, array([[1]], dtype=int32))"
      ]
     },
     "execution_count": 56,
     "metadata": {},
     "output_type": "execute_result"
    }
   ],
   "source": [
    "doc1[0], doc1._.trf_data.align[0].data"
   ]
  },
  {
   "cell_type": "markdown",
   "id": "3fb9f1fd",
   "metadata": {},
   "source": [
    "### Adding a class to the spaCy pipeline\n",
    "\n",
    "There is no good native way to compare contextualized word embeddings in spaCy. However, one of the mean advantages of this package is how easy it is to modify or add components to the pipeline."
   ]
  },
  {
   "cell_type": "code",
   "execution_count": 57,
   "id": "a77baa24",
   "metadata": {},
   "outputs": [],
   "source": [
    "# Class from: https://applied-language-technology.mooc.fi\n",
    "\n",
    "# Import the Language object under the 'language' module in spaCy,\n",
    "# and NumPy for calculating cosine similarity.\n",
    "from spacy.language import Language\n",
    "import numpy as np\n",
    "\n",
    "# We use the @ character to register the following Class definition\n",
    "# with spaCy under the name 'tensor2attr'.\n",
    "@Language.factory('tensor2attr')\n",
    "\n",
    "# We begin by declaring the class name: Tensor2Attr. The name is \n",
    "# declared using 'class', followed by the name and a colon.\n",
    "class Tensor2Attr:\n",
    "    \n",
    "    # We continue by defining the first method of the class, \n",
    "    # __init__(), which is called when this class is used for \n",
    "    # creating a Python object. Custom components in spaCy \n",
    "    # require passing two variables to the __init__() method:\n",
    "    # 'name' and 'nlp'. The variable 'self' refers to any\n",
    "    # object created using this class!\n",
    "    def __init__(self, name, nlp):\n",
    "        \n",
    "        # We do not really do anything with this class, so we\n",
    "        # simply move on using 'pass' when the object is created.\n",
    "        pass\n",
    "\n",
    "    # The __call__() method is called whenever some other object\n",
    "    # is passed to an object representing this class. Since we know\n",
    "    # that the class is a part of the spaCy pipeline, we already know\n",
    "    # that it will receive Doc objects from the preceding layers.\n",
    "    # We use the variable 'doc' to refer to any object received.\n",
    "    def __call__(self, doc):\n",
    "        \n",
    "        # When an object is received, the class will instantly pass\n",
    "        # the object forward to the 'add_attributes' method. The\n",
    "        # reference to self informs Python that the method belongs\n",
    "        # to this class.\n",
    "        self.add_attributes(doc)\n",
    "        \n",
    "        # After the 'add_attributes' method finishes, the __call__\n",
    "        # method returns the object.\n",
    "        return doc\n",
    "    \n",
    "    # Next, we define the 'add_attributes' method that will modify\n",
    "    # the incoming Doc object by calling a series of methods.\n",
    "    def add_attributes(self, doc):\n",
    "        \n",
    "        # spaCy Doc objects have an attribute named 'user_hooks',\n",
    "        # which allows customising the default attributes of a \n",
    "        # Doc object, such as 'vector'. We use the 'user_hooks'\n",
    "        # attribute to replace the attribute 'vector' with the \n",
    "        # Transformer output, which is retrieved using the \n",
    "        # 'doc_tensor' method defined below.\n",
    "        doc.user_hooks['vector'] = self.doc_tensor\n",
    "        \n",
    "        # We then perform the same for both Spans and Tokens that\n",
    "        # are contained within the Doc object.\n",
    "        doc.user_span_hooks['vector'] = self.span_tensor\n",
    "        doc.user_token_hooks['vector'] = self.token_tensor\n",
    "        \n",
    "        # We also replace the 'similarity' method, because the \n",
    "        # default 'similarity' method looks at the default 'vector'\n",
    "        # attribute, which is empty! We must first replace the\n",
    "        # vectors using the 'user_hooks' attribute.\n",
    "        doc.user_hooks['similarity'] = self.get_similarity\n",
    "        doc.user_span_hooks['similarity'] = self.get_similarity\n",
    "        doc.user_token_hooks['similarity'] = self.get_similarity\n",
    "    \n",
    "    # Define a method that takes a Doc object as input and returns \n",
    "    # Transformer output for the entire Doc.\n",
    "    def doc_tensor(self, doc):\n",
    "        \n",
    "        # Return Transformer output for the entire Doc. As noted\n",
    "        # above, this is the last item under the attribute 'tensor'.\n",
    "        # Average the output along axis 0 to handle batched outputs.\n",
    "        return doc._.trf_data.tensors[-1].mean(axis=0)\n",
    "    \n",
    "    # Define a method that takes a Span as input and returns the Transformer \n",
    "    # output.\n",
    "    def span_tensor(self, span):\n",
    "        \n",
    "        # Get alignment information for Span. This is achieved by using\n",
    "        # the 'doc' attribute of Span that refers to the Doc that contains\n",
    "        # this Span. We then use the 'start' and 'end' attributes of a Span\n",
    "        # to retrieve the alignment information. Finally, we flatten the\n",
    "        # resulting array to use it for indexing.\n",
    "        tensor_ix = span.doc._.trf_data.align[span.start: span.end].data.flatten()\n",
    "        \n",
    "        # Fetch Transformer output shape from the final dimension of the output.\n",
    "        # We do this here to maintain compatibility with different Transformers,\n",
    "        # which may output tensors of different shape.\n",
    "        out_dim = span.doc._.trf_data.tensors[0].shape[-1]\n",
    "        \n",
    "        # Get Token tensors under tensors[0]. Reshape batched outputs so that\n",
    "        # each \"row\" in the matrix corresponds to a single token. This is needed\n",
    "        # for matching alignment information under 'tensor_ix' to the Transformer\n",
    "        # output.\n",
    "        tensor = span.doc._.trf_data.tensors[0].reshape(-1, out_dim)[tensor_ix]\n",
    "        \n",
    "        # Average vectors along axis 0 (\"columns\"). This yields a 768-dimensional\n",
    "        # vector for each spaCy Span.\n",
    "        return tensor.mean(axis=0)\n",
    "    \n",
    "    # Define a function that takes a Token as input and returns the Transformer\n",
    "    # output.\n",
    "    def token_tensor(self, token):\n",
    "        \n",
    "        # Get alignment information for Token; flatten array for indexing.\n",
    "        # Again, we use the 'doc' attribute of a Token to get the parent Doc,\n",
    "        # which contains the Transformer output.\n",
    "        tensor_ix = token.doc._.trf_data.align[token.i].data.flatten()\n",
    "        \n",
    "        # Fetch Transformer output shape from the final dimension of the output.\n",
    "        # We do this here to maintain compatibility with different Transformers,\n",
    "        # which may output tensors of different shape.\n",
    "        out_dim = token.doc._.trf_data.tensors[0].shape[-1]\n",
    "        \n",
    "        # Get Token tensors under tensors[0]. Reshape batched outputs so that\n",
    "        # each \"row\" in the matrix corresponds to a single token. This is needed\n",
    "        # for matching alignment information under 'tensor_ix' to the Transformer\n",
    "        # output.\n",
    "        tensor = token.doc._.trf_data.tensors[0].reshape(-1, out_dim)[tensor_ix]\n",
    "\n",
    "        # Average vectors along axis 0 (columns). This yields a 768-dimensional\n",
    "        # vector for each spaCy Token.\n",
    "        return tensor.mean(axis=0)\n",
    "    \n",
    "    # Define a function for calculating cosine similarity between vectors\n",
    "    def get_similarity(self, doc1, doc2):\n",
    "        \n",
    "        # Calculate and return cosine similarity\n",
    "        return np.dot(doc1.vector, doc2.vector) / (doc1.vector_norm * doc2.vector_norm)"
   ]
  },
  {
   "cell_type": "code",
   "execution_count": 58,
   "id": "f0d4b9ec",
   "metadata": {},
   "outputs": [
    {
     "data": {
      "text/plain": [
       "[('transformer',\n",
       "  <spacy_transformers.pipeline_component.Transformer at 0x7f9ec419c100>),\n",
       " ('tagger', <spacy.pipeline.tagger.Tagger at 0x7f9ec419cac0>),\n",
       " ('parser', <spacy.pipeline.dep_parser.DependencyParser at 0x7f9ec81f3890>),\n",
       " ('attribute_ruler',\n",
       "  <spacy.pipeline.attributeruler.AttributeRuler at 0x7f9e98c0fac0>),\n",
       " ('lemmatizer',\n",
       "  <spacy.lang.en.lemmatizer.EnglishLemmatizer at 0x7f9ec7861c00>),\n",
       " ('ner', <spacy.pipeline.ner.EntityRecognizer at 0x7f9e9088cdd0>),\n",
       " ('tensor2attr', <__main__.Tensor2Attr at 0x7f9e90143b80>)]"
      ]
     },
     "execution_count": 58,
     "metadata": {},
     "output_type": "execute_result"
    }
   ],
   "source": [
    "# Add the component named 'tensor2attr', which we registered using the\n",
    "# @Language decorator and its 'factory' method to the pipeline.\n",
    "nlp_trf.add_pipe('tensor2attr')\n",
    "\n",
    "# Call the 'pipeline' attribute to examine the pipeline\n",
    "nlp_trf.pipeline"
   ]
  },
  {
   "cell_type": "code",
   "execution_count": 69,
   "id": "b60206cd",
   "metadata": {},
   "outputs": [
    {
     "name": "stdout",
     "output_type": "stream",
     "text": [
      "Apple\n",
      "apple\n",
      "0.23767997\n"
     ]
    }
   ],
   "source": [
    "doc1 = nlp_trf(\"Apple shares rose on the news.\")\n",
    "doc2 = nlp_trf('I really enjoyed this delicious apple.')\n",
    "\n",
    "# doc1[0] accesses the emmbedding of the first token = 'Apple'\n",
    "print(doc1[0])  # Apple\n",
    "\n",
    "# doc2[5] accesses the emmbedding of the 6th token = 'apple'\n",
    "print(doc2[5])  # apple\n",
    "\n",
    "print(doc1[0].similarity(doc2[5])) "
   ]
  },
  {
   "cell_type": "code",
   "execution_count": 70,
   "id": "b0f57c8a",
   "metadata": {},
   "outputs": [
    {
     "name": "stdout",
     "output_type": "stream",
     "text": [
      "Apple\n",
      "apple\n",
      "1.0000001192092896\n"
     ]
    }
   ],
   "source": [
    "doc1s = nlp(\"Apple shares rose on the news.\")\n",
    "doc2s = nlp('I really enjoyed this delicious apple.')\n",
    "\n",
    "# doc1[0] accesses the emmbedding of the first token = 'Apple'\n",
    "print(doc1s[0])  # Apple\n",
    "\n",
    "# doc2[5] accesses the emmbedding of the 6th token = 'apple'\n",
    "print(doc2s[5])  # apple\n",
    "\n",
    "print(doc1s[0].similarity(doc2s[5])) "
   ]
  },
  {
   "cell_type": "code",
   "execution_count": 71,
   "id": "f4fc57b7",
   "metadata": {},
   "outputs": [
    {
     "name": "stdout",
     "output_type": "stream",
     "text": [
      "Apple\n",
      "apple\n",
      "0.46383777\n",
      "0.89162207\n"
     ]
    }
   ],
   "source": [
    "doc3 = nlp_trf('The new iPhone by Apple is expected by September 2024')\n",
    "doc4 = nlp_trf('I liked the red apple the most')\n",
    "\n",
    "print(doc3[4])\n",
    "\n",
    "# doc2[5] accesses the emmbedding of the 6th token = 'apple'\n",
    "print(doc4[4])  # apple\n",
    "\n",
    "print(doc1[0].similarity(doc3[4])) \n",
    "print(doc2[5].similarity(doc4[4])) "
   ]
  },
  {
   "cell_type": "markdown",
   "id": "56a171cf",
   "metadata": {},
   "source": [
    "<div class=\"alert alert-block alert-success\"> <b>Activity.</b> Use spaCy's en_core_web_md's word embeddings to answer the following questions\n",
    "    1. What is the average similarity between a noun and a determiner?\n",
    "    2. What is the average similarity between a noun and a verb?\n",
    "</div>\n",
    "\n",
    "<div class=\"alert alert-block alert-success\"> <b>Activity.</b> Use spaCy's en_core_web_trf to answer the following questions\n",
    "    1. What is the average similarity between a noun and a determiner?\n",
    "    2. What is the average similarity between a noun and a verb?\n",
    "</div>"
   ]
  }
 ],
 "metadata": {
  "kernelspec": {
   "display_name": "nlpupf",
   "language": "python",
   "name": "nlpupf"
  },
  "language_info": {
   "codemirror_mode": {
    "name": "ipython",
    "version": 3
   },
   "file_extension": ".py",
   "mimetype": "text/x-python",
   "name": "python",
   "nbconvert_exporter": "python",
   "pygments_lexer": "ipython3",
   "version": "3.9.12"
  }
 },
 "nbformat": 4,
 "nbformat_minor": 5
}
